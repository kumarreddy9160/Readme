{
  "nbformat": 4,
  "nbformat_minor": 0,
  "metadata": {
    "colab": {
      "provenance": []
    },
    "kernelspec": {
      "name": "python3",
      "display_name": "Python 3"
    },
    "language_info": {
      "name": "python"
    }
  },
  "cells": [
    {
      "cell_type": "code",
      "execution_count": 3,
      "metadata": {
        "colab": {
          "base_uri": "https://localhost:8080/"
        },
        "id": "3a7O7nDG8tdS",
        "outputId": "76d8b70b-cea4-454d-e5f0-6d2cfb97d0b4"
      },
      "outputs": [
        {
          "output_type": "stream",
          "name": "stdout",
          "text": [
            "Enter the sample input:python\n",
            "python\n",
            "Removing the two charectors: pytn\n",
            "Reversing the string after removing the charectors: ntyp\n"
          ]
        }
      ],
      "source": [
        "sam = input(\"Enter the sample input:\")\n",
        "print(sam)\n",
        "deletingtwocharectors = sam.translate({ord(i): None for i in \"oh\"})\n",
        "print(\"Removing the two charectors:\", deletingtwocharectors)\n",
        "print(\"Reversing the string after removing the charectors:\",deletingtwocharectors[::-1])\n",
        "\n",
        "\n",
        "\n"
      ]
    },
    {
      "cell_type": "code",
      "source": [
        "number_1 = int(input(\"Enter the value 1:\"))\n",
        "print(number_1)\n",
        "number_2 = int(input(\"Enter the value 2:\"))\n",
        "print(number_2)\n",
        "print(\"Adding the number_1 and number_2:\", number_1 + number_2)\n",
        "print(\"Substracting the number_1 and number_2:\", number_1 - number_2)\n",
        "print(\"Multiplying the number_1 and number_2:\", number_1 * number_2)\n",
        "print(\"Dividing the number_1 and number_2:\", number_1 / number_2)"
      ],
      "metadata": {
        "colab": {
          "base_uri": "https://localhost:8080/"
        },
        "id": "JU--fR9SE_Ps",
        "outputId": "d85c1ac7-410b-4873-ec9b-287fa3672360"
      },
      "execution_count": 4,
      "outputs": [
        {
          "output_type": "stream",
          "name": "stdout",
          "text": [
            "Enter the value 1:100\n",
            "100\n",
            "Enter the value 2:20\n",
            "20\n",
            "Adding the value1 and value2: 120\n",
            "Substracting the value1 and value2: 80\n",
            "Multiplying the value1 and value2: 2000\n",
            "Dividing the value1 and value2: 0\n"
          ]
        }
      ]
    },
    {
      "cell_type": "code",
      "source": [
        "data = input(\"Enter the data:\")\n",
        "print(data)\n",
        "sentenceReplace = data.replace('python', 'pythons')\n",
        "print(\"After replacing the data:\", sentenceReplace)"
      ],
      "metadata": {
        "colab": {
          "base_uri": "https://localhost:8080/"
        },
        "id": "ivxd7IB0IIBO",
        "outputId": "a6053579-8d2a-40b8-daf9-e12435504a3b"
      },
      "execution_count": 5,
      "outputs": [
        {
          "output_type": "stream",
          "name": "stdout",
          "text": [
            "Enter the data:I love playing python\n",
            "I love playing python\n",
            "After replacing the data: I love playing pythons\n"
          ]
        }
      ]
    },
    {
      "cell_type": "code",
      "source": [
        "score = int(input(\"Enter the score that you scored:\"))\n",
        "if score >= 90:\n",
        "        print(\"A\")\n",
        "elif score >= 80:\n",
        "        print(\"B\")\n",
        "elif score >= 70:\n",
        "         print(\"C\")\n",
        "elif score >= 60:\n",
        "         print(\"D\")\n",
        "else:\n",
        "         print(\"F\")"
      ],
      "metadata": {
        "colab": {
          "base_uri": "https://localhost:8080/"
        },
        "id": "KDTDbvEqJAaE",
        "outputId": "d82cfa33-017c-4e6a-9b40-d073400b4ce0"
      },
      "execution_count": 6,
      "outputs": [
        {
          "output_type": "stream",
          "name": "stdout",
          "text": [
            "Enter the score that you scored:40\n",
            "F\n"
          ]
        }
      ]
    }
  ]
}