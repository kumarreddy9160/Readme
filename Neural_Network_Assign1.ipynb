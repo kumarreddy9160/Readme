{
  "nbformat": 4,
  "nbformat_minor": 0,
  "metadata": {
    "colab": {
      "provenance": []
    },
    "kernelspec": {
      "name": "python3",
      "display_name": "Python 3"
    },
    "language_info": {
      "name": "python"
    }
  },
  "cells": [
    {
      "cell_type": "code",
      "execution_count": 13,
      "metadata": {
        "colab": {
          "base_uri": "https://localhost:8080/"
        },
        "id": "3a7O7nDG8tdS",
        "outputId": "a1734673-9213-4c9f-9346-6dcca91d7dc2"
      },
      "outputs": [
        {
          "output_type": "stream",
          "name": "stdout",
          "text": [
            "Enter the sample input:python\n",
            "python\n",
            "deleting the two charectors: pytn\n",
            "Reversing  the curent charectors: ntyp\n"
          ]
        }
      ],
      "source": [
        "sam = input(\"Enter the sample input:\")\n",
        "print(sam)\n",
        "removingtwocharectors = sam.translate({ord(i): None for i in \"oh\"})\n",
        "print(\"deleting the two charectors:\", removingtwocharectors)\n",
        "print(\"Reversing  the curent charectors:\",removingtwocharectors[::-1])\n",
        "\n",
        "\n",
        "\n"
      ]
    },
    {
      "cell_type": "code",
      "source": [
        "number_1 = int(input(\"Enter the value 1:\"))\n",
        "print(number_1)\n",
        "number_2 = int(input(\"Enter the value 2:\"))\n",
        "print(number_2)\n",
        "print(\"Adding the number_1 and number_2:\", number_1 + number_2)\n",
        "print(\"Substracting the number_1 and number_2:\", number_1 - number_2)\n",
        "print(\"Multiplying the number_1 and number_2:\", number_1 * number_2)\n",
        "print(\"Dividing the number_1 and number_2:\", number_1 / number_2)"
      ],
      "metadata": {
        "colab": {
          "base_uri": "https://localhost:8080/"
        },
        "id": "JU--fR9SE_Ps",
        "outputId": "6110a71a-40a0-4c82-f4f8-4251646e604b"
      },
      "execution_count": 8,
      "outputs": [
        {
          "output_type": "stream",
          "name": "stdout",
          "text": [
            "Enter the value 1:90\n",
            "90\n",
            "Enter the value 2:20\n",
            "20\n",
            "Adding the number_1 and number_2: 110\n",
            "Substracting the number_1 and number_2: 70\n",
            "Multiplying the number_1 and number_2: 1800\n",
            "Dividing the number_1 and number_2: 4.5\n"
          ]
        }
      ]
    },
    {
      "cell_type": "code",
      "source": [
        "data = input(\"Enter the data:\")\n",
        "print(data)\n",
        "sentenceReplace = data.replace('python', 'pythons')\n",
        "print(\"After replacing the data:\", sentenceReplace)"
      ],
      "metadata": {
        "colab": {
          "base_uri": "https://localhost:8080/"
        },
        "id": "ivxd7IB0IIBO",
        "outputId": "9bfc938a-62dd-486a-b00d-2a446ea88493"
      },
      "execution_count": 14,
      "outputs": [
        {
          "output_type": "stream",
          "name": "stdout",
          "text": [
            "Enter the data:I love playing python\n",
            "I love playing python\n",
            "After replacing the data: I love playing pythons\n"
          ]
        }
      ]
    },
    {
      "cell_type": "code",
      "source": [
        "score = int(input(\"Enter the score that you secured:\"))\n",
        "if score >= 90:\n",
        "        print(\"A\")\n",
        "elif score >= 80:\n",
        "        print(\"B\")\n",
        "elif score >= 70:\n",
        "         print(\"C\")\n",
        "elif score >= 60:\n",
        "         print(\"D\")\n",
        "else:\n",
        "         print(\"F\")"
      ],
      "metadata": {
        "colab": {
          "base_uri": "https://localhost:8080/"
        },
        "id": "KDTDbvEqJAaE",
        "outputId": "80c6908b-43e7-47a8-c37f-71e513ed0936"
      },
      "execution_count": 12,
      "outputs": [
        {
          "output_type": "stream",
          "name": "stdout",
          "text": [
            "Enter the score that you scored:50\n",
            "F\n"
          ]
        }
      ]
    }
  ]
}